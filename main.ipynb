{
 "cells": [
  {
   "cell_type": "markdown",
   "metadata": {},
   "source": [
    "# Customer Service Sentiment Analysis Project\n",
    "This notebook implements sentiment analysis on customer service conversations following the assignment requirements:\n",
    "1. WANDB Setup\n",
    "2. Data Loading and EDA\n",
    "3. Data Preprocessing\n",
    "4. Model Architecture\n",
    "5. Training and Evaluation"
   ]
  },
  {
   "cell_type": "code",
   "execution_count": 3,
   "metadata": {},
   "outputs": [],
   "source": [
    "# Import required libraries\n",
    "import os\n",
    "import pandas as pd\n",
    "import numpy as np\n",
    "import matplotlib.pyplot as plt\n",
    "import seaborn as sns\n",
    "import torch\n",
    "import wandb\n",
    "from sklearn.model_selection import train_test_split\n",
    "from transformers import GPT2Tokenizer\n",
    "\n",
    "# Set random seeds for reproducibility\n",
    "torch.manual_seed(42)\n",
    "np.random.seed(42)"
   ]
  },
  {
   "cell_type": "markdown",
   "metadata": {},
   "source": [
    "## 1. WANDB Setup and Data Loading\n",
    "First, we'll set up WANDB and load our dataset"
   ]
  },
  {
   "cell_type": "code",
   "execution_count": 4,
   "metadata": {},
   "outputs": [
    {
     "name": "stderr",
     "output_type": "stream",
     "text": [
      "\u001b[34m\u001b[1mwandb\u001b[0m: Using wandb-core as the SDK backend.  Please refer to https://wandb.me/wandb-core for more information.\n",
      "\u001b[34m\u001b[1mwandb\u001b[0m: Currently logged in as: \u001b[33mmmertalper\u001b[0m (\u001b[33mmmertalper_\u001b[0m). Use \u001b[1m`wandb login --relogin`\u001b[0m to force relogin\n"
     ]
    },
    {
     "data": {
      "text/html": [
       "Tracking run with wandb version 0.19.1"
      ],
      "text/plain": [
       "<IPython.core.display.HTML object>"
      ]
     },
     "metadata": {},
     "output_type": "display_data"
    },
    {
     "data": {
      "text/html": [
       "Run data is saved locally in <code>c:\\Users\\Mert\\Desktop\\DI725_assignment_1\\wandb\\run-20250406_224251-2i0ka3ws</code>"
      ],
      "text/plain": [
       "<IPython.core.display.HTML object>"
      ]
     },
     "metadata": {},
     "output_type": "display_data"
    },
    {
     "data": {
      "text/html": [
       "Syncing run <strong><a href='https://wandb.ai/mmertalper_/customer-service-sentiment/runs/2i0ka3ws' target=\"_blank\">final-unimatrix-1</a></strong> to <a href='https://wandb.ai/mmertalper_/customer-service-sentiment' target=\"_blank\">Weights & Biases</a> (<a href='https://wandb.me/developer-guide' target=\"_blank\">docs</a>)<br>"
      ],
      "text/plain": [
       "<IPython.core.display.HTML object>"
      ]
     },
     "metadata": {},
     "output_type": "display_data"
    },
    {
     "data": {
      "text/html": [
       " View project at <a href='https://wandb.ai/mmertalper_/customer-service-sentiment' target=\"_blank\">https://wandb.ai/mmertalper_/customer-service-sentiment</a>"
      ],
      "text/plain": [
       "<IPython.core.display.HTML object>"
      ]
     },
     "metadata": {},
     "output_type": "display_data"
    },
    {
     "data": {
      "text/html": [
       " View run at <a href='https://wandb.ai/mmertalper_/customer-service-sentiment/runs/2i0ka3ws' target=\"_blank\">https://wandb.ai/mmertalper_/customer-service-sentiment/runs/2i0ka3ws</a>"
      ],
      "text/plain": [
       "<IPython.core.display.HTML object>"
      ]
     },
     "metadata": {},
     "output_type": "display_data"
    },
    {
     "name": "stdout",
     "output_type": "stream",
     "text": [
      "WANDB initialized successfully!\n"
     ]
    }
   ],
   "source": [
    "# Initialize WANDB with API key\n",
    "import os\n",
    "os.environ[\"WANDB_API_KEY\"] = \"1d83931f78aaf77ced9b8cdbe1046e394d81342f\"\n",
    "\n",
    "# Initialize wandb project\n",
    "wandb.init(\n",
    "    project=\"customer-service-sentiment\",\n",
    "    config={\n",
    "        \"architecture\": \"nanoGPT\",\n",
    "        \"dataset\": \"customer_service\",\n",
    "        \"learning_rate\": 2e-5,\n",
    "        \"epochs\": 3,\n",
    "        \"batch_size\": 8,\n",
    "        \"max_length\": 512\n",
    "    }\n",
    ")\n",
    "\n",
    "print(\"WANDB initialized successfully!\")"
   ]
  },
  {
   "cell_type": "code",
   "execution_count": 6,
   "metadata": {},
   "outputs": [
    {
     "name": "stdout",
     "output_type": "stream",
     "text": [
      "Vocabulary size: 50,261\n",
      "Train samples: 873\n",
      "Validation samples: 97\n",
      "Test samples: 30\n",
      "\n",
      "Sentiment distribution:\n",
      "Train: {'neutral': 488, 'negative': 370, 'positive': 15}\n",
      "Val: {'neutral': 54, 'negative': 41, 'positive': 2}\n",
      "Test: {'negative': 10, 'neutral': 10, 'positive': 10}\n"
     ]
    }
   ],
   "source": [
    "!python prepare_customer_service.py"
   ]
  },
  {
   "cell_type": "markdown",
   "metadata": {},
   "source": [
    "# Cell 5 (Markdown)\n",
    "## Exploratory Data Analysis (EDA)\n",
    "Now that we've prepared our data, let's analyze:\n",
    "1. Distribution of sentiment classes\n",
    "2. Conversation characteristics\n",
    "3. Relationships between features"
   ]
  },
  {
   "cell_type": "code",
   "execution_count": null,
   "metadata": {},
   "outputs": [],
   "source": [
    "# Load the original data for EDA\n",
    "train_df = pd.read_csv('data/customer_service/train.csv')\n",
    "test_df = pd.read_csv('data/customer_service/test.csv')\n",
    "\n",
    "print(\"Dataset shapes:\")\n",
    "print(f\"Training set: {train_df.shape}\")\n",
    "print(f\"Test set: {test_df.shape}\\n\")\n",
    "\n",
    "# Display basic information\n",
    "print(\"Training set columns:\", train_df.columns.tolist())\n",
    "print(\"\\nSample of training data:\")\n",
    "display(train_df.head())"
   ]
  },
  {
   "cell_type": "code",
   "execution_count": null,
   "metadata": {},
   "outputs": [],
   "source": [
    "# Plot sentiment distribution\n",
    "plt.figure(figsize=(10, 6))\n",
    "sentiment_counts = train_df['customer_sentiment'].value_counts()\n",
    "sns.barplot(x=sentiment_counts.index, y=sentiment_counts.values)\n",
    "plt.title('Distribution of Customer Sentiment in Training Set')\n",
    "plt.xlabel('Sentiment')\n",
    "plt.ylabel('Count')\n",
    "plt.xticks(rotation=45)\n",
    "\n",
    "# Log to wandb\n",
    "wandb.log({\"sentiment_distribution\": wandb.Image(plt)})\n",
    "plt.show()\n",
    "\n",
    "# Print distribution percentages\n",
    "print(\"\\nSentiment Distribution:\")\n",
    "print(train_df['customer_sentiment'].value_counts(normalize=True).mul(100).round(2))"
   ]
  }
 ],
 "metadata": {
  "kernelspec": {
   "display_name": "Python 3",
   "language": "python",
   "name": "python3"
  },
  "language_info": {
   "codemirror_mode": {
    "name": "ipython",
    "version": 3
   },
   "file_extension": ".py",
   "mimetype": "text/x-python",
   "name": "python",
   "nbconvert_exporter": "python",
   "pygments_lexer": "ipython3",
   "version": "3.9.13"
  }
 },
 "nbformat": 4,
 "nbformat_minor": 2
}
